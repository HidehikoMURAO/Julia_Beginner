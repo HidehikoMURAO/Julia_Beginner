{
 "cells": [
  {
   "cell_type": "markdown",
   "metadata": {},
   "source": [
    "# Arithmetic Mean\n",
    "## $ \\mu = \\frac{1}{n} \\sum\\limits_{i=1}^n x_i $"
   ]
  },
  {
   "cell_type": "markdown",
   "metadata": {},
   "source": [
    "Find the average of the sum of integers from 1 to 10.\n",
    "\n",
    "The summation is obtained using the `sum ()` function."
   ]
  },
  {
   "cell_type": "code",
   "execution_count": 1,
   "metadata": {},
   "outputs": [
    {
     "name": "stdout",
     "output_type": "stream",
     "text": [
      "Arthmetic mean is 5.5\n"
     ]
    }
   ],
   "source": [
    "x1 = [1.0, 2.0, 3.0, 4.0, 5.0, 6.0, 7.0, 8.0, 9.0, 10.0]\n",
    "\n",
    "n = length(x1)\n",
    "\n",
    "mu_a = sum(x1) / n\n",
    "\n",
    "println(\"Arthmetic mean is \", mu_a)"
   ]
  },
  {
   "cell_type": "markdown",
   "metadata": {},
   "source": [
    "# Geometric mean\n",
    "## $ ( \\prod\\limits_{i=1}^{n} x_i ) ^ \\frac {1} {n} $"
   ]
  },
  {
   "cell_type": "markdown",
   "metadata": {},
   "source": [
    "Find the geometric mean of 1 to 10.\n",
    "\n",
    "The total power is obtained using the `prod ()` function."
   ]
  },
  {
   "cell_type": "code",
   "execution_count": 2,
   "metadata": {},
   "outputs": [
    {
     "name": "stdout",
     "output_type": "stream",
     "text": [
      "Geometric mean is 2.605171084697352\n"
     ]
    }
   ],
   "source": [
    "x2 = [1.0, 2.0, 3.0, 4.0, 5.0]\n",
    "\n",
    "n = length(x2)\n",
    "\n",
    "mu_g = prod(x2) ^ (1 / n)\n",
    "\n",
    "println(\"Geometric mean is \", mu_g)"
   ]
  },
  {
   "cell_type": "code",
   "execution_count": null,
   "metadata": {},
   "outputs": [],
   "source": []
  }
 ],
 "metadata": {
  "@webio": {
   "lastCommId": null,
   "lastKernelId": null
  },
  "kernelspec": {
   "display_name": "Julia 1.1.0",
   "language": "julia",
   "name": "julia-1.1"
  },
  "language_info": {
   "file_extension": ".jl",
   "mimetype": "application/julia",
   "name": "julia",
   "version": "1.1.0"
  }
 },
 "nbformat": 4,
 "nbformat_minor": 2
}
