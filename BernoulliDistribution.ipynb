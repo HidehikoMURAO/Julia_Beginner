{
 "cells": [
  {
   "cell_type": "code",
   "execution_count": 1,
   "metadata": {},
   "outputs": [
    {
     "ename": "ArgumentError",
     "evalue": "ArgumentError: Package Distributions not found in current path:\n- Run `import Pkg; Pkg.add(\"Distributions\")` to install the Distributions package.\n",
     "output_type": "error",
     "traceback": [
      "ArgumentError: Package Distributions not found in current path:\n- Run `import Pkg; Pkg.add(\"Distributions\")` to install the Distributions package.\n",
      "",
      "Stacktrace:",
      " [1] require(::Module, ::Symbol) at ./loading.jl:823",
      " [2] top-level scope at In[1]:1"
     ]
    }
   ],
   "source": [
    "using Distributions\n",
    "using Plots\n",
    "gr()\n",
    "\n",
    "μtruth = 0.25\n",
    "dist = Bernoulli(μtruth)\n",
    "println(rand(dist, 10))\n",
    "\n",
    "ϵ = 0.01;\n",
    "# x = linspace(ϵ, 1.0 - ϵ, N); linspaceは廃止となった　\n",
    "# またlinspace(start,stop,length)のlengthがfloatでも特にエラーは出ませんでしたが，\n",
    "# range(start,stop,length)のlengthがIntでないとTypeErrorが出ますので気をつけましょう．\n",
    "# x = range(ϵ, 1.0 - ϵ, N); # linspaceではなくrangeを使う\n",
    "x = range(ϵ, 1.0 - ϵ, N); # linspaceではなくrangeを使う\n",
    "bdist = Beta(0.5, 0.5)\n",
    "y = pdf.(bdist, x)\n",
    "plot(x, y, ylim=(0.0, 7.0))"
   ]
  },
  {
   "cell_type": "code",
   "execution_count": 2,
   "metadata": {},
   "outputs": [
    {
     "ename": "UndefVarError",
     "evalue": "UndefVarError: Beta not defined",
     "output_type": "error",
     "traceback": [
      "UndefVarError: Beta not defined",
      "",
      "Stacktrace:",
      " [1] top-level scope at In[2]:4"
     ]
    }
   ],
   "source": [
    "nsample = 50;\n",
    "α = 10.\n",
    "β = 5.\n",
    "bdist = Beta(α, β)\n",
    "d1 = (α, β)\n",
    "samples = Int64[]\n",
    "lα = [α]\n",
    "lβ = [β]\n",
    "for i in 1:nsample\n",
    "    ni = rand(dist)\n",
    "    push!(samples, ni)  # サンプル\n",
    "\n",
    "    pos = sum(samples)  # 1の回数\n",
    "    neg = i - pos       # 総数 - 1の回数\n",
    "    push!(lα, α + pos)\n",
    "    push!(lβ, β + neg)\n",
    "end\n",
    "pos = sum(samples)\n",
    "neg = nsample - pos\n",
    "push!(lα, α + pos)\n",
    "push!(lβ, β + neg)\n",
    "println(samples)\n",
    "println(lα, lβ)"
   ]
  },
  {
   "cell_type": "code",
   "execution_count": 3,
   "metadata": {},
   "outputs": [
    {
     "ename": "UndefVarError",
     "evalue": "UndefVarError: lα not defined",
     "output_type": "error",
     "traceback": [
      "UndefVarError: lα not defined",
      "",
      "Stacktrace:",
      " [1] top-level scope at ./In[3]:4"
     ]
    }
   ],
   "source": [
    "ldist = []\n",
    "indices = [1, 3, 10, 50]\n",
    "for idx in indices\n",
    "    αi = lα[idx]\n",
    "    βi = lβ[idx]\n",
    "    disti = Beta(αi, βi)\n",
    "    push!(ldist, disti)\n",
    "end\n",
    "\n",
    "# beta dist plot\n",
    "plot()\n",
    "for i in 1:4\n",
    "    yi = pdf.(ldist[i], x);\n",
    "    plot!(x, yi, ylim=(0.0, 7.0))\n",
    "end\n",
    "plot!()"
   ]
  },
  {
   "cell_type": "code",
   "execution_count": null,
   "metadata": {},
   "outputs": [],
   "source": []
  }
 ],
 "metadata": {
  "@webio": {
   "lastCommId": null,
   "lastKernelId": null
  },
  "kernelspec": {
   "display_name": "Julia 1.1.1",
   "language": "julia",
   "name": "julia-1.1"
  },
  "language_info": {
   "file_extension": ".jl",
   "mimetype": "application/julia",
   "name": "julia",
   "version": "1.1.1"
  }
 },
 "nbformat": 4,
 "nbformat_minor": 2
}
