{
 "cells": [
  {
   "cell_type": "markdown",
   "metadata": {},
   "source": [
    "# Julia言語の計算の仕組み\n",
    "\n",
    "函数を実行したときに,与えられた引数の型情報を使って,その函数をネイティブコードにコンパイルしてから実行する仕組みなので高速に計算したいコードは函数の中に入れなければいけない.\n",
    "\n",
    "以下に，円周率のモンテカルロ計算を実行した時にかかる時間の計測例を示す．\n",
    "\n",
    "（オリジナルは，黒木玄さんの「JuliaとJupyterのすすめ」( https://nbviewer.jupyter.org/github/genkuroki/msfd28/blob/master/msfd28genkuroki.ipynb )にあるコードを転用して確認）"
   ]
  },
  {
   "cell_type": "code",
   "execution_count": 1,
   "metadata": {},
   "outputs": [
    {
     "name": "stdout",
     "output_type": "stream",
     "text": [
      "  1.109035 seconds (40.00 M allocations: 762.914 MiB, 5.02% gc time)\n"
     ]
    },
    {
     "data": {
      "text/plain": [
       "3.141094"
      ]
     },
     "execution_count": 1,
     "metadata": {},
     "output_type": "execute_result"
    }
   ],
   "source": [
    "### 函数にせずに実行\n",
    "\n",
    "@time begin\n",
    "    L = 10^7\n",
    "    c = 0\n",
    "    for i in 1:L\n",
    "        global c\n",
    "        c += ifelse(rand()^2+rand()^2 ≤ 1, 1, 0)\n",
    "    end\n",
    "    4c/L\n",
    "end"
   ]
  },
  {
   "cell_type": "code",
   "execution_count": 2,
   "metadata": {},
   "outputs": [
    {
     "name": "stdout",
     "output_type": "stream",
     "text": [
      "  0.037430 seconds (35.84 k allocations: 1.959 MiB)\n"
     ]
    },
    {
     "data": {
      "text/plain": [
       "3.1419924"
      ]
     },
     "execution_count": 2,
     "metadata": {},
     "output_type": "execute_result"
    }
   ],
   "source": [
    "### 函数にして実行\n",
    "\n",
    "function simpi(L=10^7)\n",
    "    c = 0\n",
    "    for i in 1:L\n",
    "        c += ifelse(rand()^2+rand()^2 ≤ 1, 1, 0)\n",
    "    end\n",
    "    4c/L\n",
    "end\n",
    "simpi(10^5) # simpi(::Int64)がコンパイルされる\n",
    "\n",
    "@time simpi()"
   ]
  },
  {
   "cell_type": "markdown",
   "metadata": {},
   "source": [
    "上記の例では約30倍速くなっているのがわかる．\n",
    "\n",
    "黒木玄さんの「JuliaとJupyterのすすめ」には，gccと比較しても断然速いことが示されている．\n",
    "\n",
    "ただし，gccで適切なライブラリを選定すると，Juliaより速く計算できる例も示されているが，最適なライブラリ設定は面倒な（というよりわからない）事も多々あるので，Juliaで計算することのメリットを知ることができる．"
   ]
  },
  {
   "cell_type": "code",
   "execution_count": null,
   "metadata": {},
   "outputs": [],
   "source": []
  }
 ],
 "metadata": {
  "kernelspec": {
   "display_name": "Julia 1.1.1",
   "language": "julia",
   "name": "julia-1.1"
  },
  "language_info": {
   "file_extension": ".jl",
   "mimetype": "application/julia",
   "name": "julia",
   "version": "1.1.1"
  }
 },
 "nbformat": 4,
 "nbformat_minor": 2
}
